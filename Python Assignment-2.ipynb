{
 "cells": [
  {
   "cell_type": "markdown",
   "id": "26bb24cc",
   "metadata": {},
   "source": [
    " 1.What are the two values of the Boolean data type? How do you write them?"
   ]
  },
  {
   "cell_type": "code",
   "execution_count": null,
   "id": "3d13aad4",
   "metadata": {},
   "outputs": [],
   "source": [
    "True and False are two Boolean data types"
   ]
  },
  {
   "cell_type": "markdown",
   "id": "33e2600e",
   "metadata": {},
   "source": [
    "2.What are the three different types of Boolean operators?"
   ]
  },
  {
   "cell_type": "code",
   "execution_count": null,
   "id": "12a4966d",
   "metadata": {},
   "outputs": [],
   "source": [
    "AND,OR,NOT are the three different types of boolean operators"
   ]
  },
  {
   "cell_type": "markdown",
   "id": "85628aaf",
   "metadata": {},
   "source": [
    "3.Make a list of each Boolean operator's truth tables (i.e. every possible combination of Boolean\n",
    "values for the operator and what it evaluate ).\n"
   ]
  },
  {
   "cell_type": "code",
   "execution_count": null,
   "id": "08076e99",
   "metadata": {},
   "outputs": [],
   "source": [
    "AND:\n",
    "\tOperand 1\tOperand 2\tResult\n",
    "\tFalse\t\tFalse\t\tFalse\n",
    "\tFalse\t\tTrue\t\tFalse\n",
    "\tTrue\t\tFalse\t\tFalse\n",
    "\tTrue\t\tTrue\t\tTrue\n",
    "OR:\n",
    "\tOperand 1\tOperand 2\tResult\n",
    "\tFalse\t\tFalse\t\tFalse\n",
    "\tFalse\t\tTrue\t\tTrue\n",
    "\tTrue\t\tFalse\t\tTrue\n",
    "\tTrue\t\tTrue\t\tTrue\n",
    "NOT:\n",
    "\tOperand\t\tResult\n",
    "\tTrue\t\tFalse\n",
    "\tFalse\t\tTrue\n"
   ]
  },
  {
   "cell_type": "markdown",
   "id": "6df905d7",
   "metadata": {},
   "source": [
    "4.What are the values of the following expressions?\n",
    "a)(5 > 4) and (3 == 5)\n",
    "b)not (5 >4)\n",
    "c)(5 > 4) or (3 == 5)\n",
    "d)not ((5 > 4) or (3 == 5))\n",
    "e)(True and True) and (True == False)\n",
    "f)(not False) or (not True)\n",
    "\t"
   ]
  },
  {
   "cell_type": "code",
   "execution_count": null,
   "id": "d08ab1b8",
   "metadata": {},
   "outputs": [],
   "source": [
    "a)False\n",
    "b)False\n",
    "c)True\n",
    "d)False\n",
    "e)False\n",
    "f)True"
   ]
  },
  {
   "cell_type": "markdown",
   "id": "fa9dde7e",
   "metadata": {},
   "source": [
    "5. What are the six comparison operators?"
   ]
  },
  {
   "cell_type": "code",
   "execution_count": null,
   "id": "125541bf",
   "metadata": {},
   "outputs": [],
   "source": [
    " 1)equalto(==)\n",
    "2)not equal to(!=)\n",
    "3)greater than(>)\n",
    "4)less than(<)\n",
    "5)greater than equal to(>=)\n",
    "6)less than equal to(<=)"
   ]
  },
  {
   "cell_type": "markdown",
   "id": "90c702c5",
   "metadata": {},
   "source": [
    "6)How do you tell the difference between the equal to and assignment operators?Describe a\n",
    "condition and when you would use one."
   ]
  },
  {
   "cell_type": "code",
   "execution_count": null,
   "id": "00f3ca2d",
   "metadata": {},
   "outputs": [],
   "source": [
    "one equalto(=) symbol is used as assignment operator where as 2 equalto symbols side by side(==) is used as comparing operator\n",
    "a=10\n",
    "if a==10:\n",
    "    print(\"hi\")\n",
    "else:\n",
    "    print(\"Bye\")\n",
    " In the above example a=10 here \"=\" acts as assignment operator and if a==10 here == acts as comaring operators"
   ]
  },
  {
   "cell_type": "markdown",
   "id": "5168594d",
   "metadata": {},
   "source": [
    "7)Identify the three blocks in this code:\n",
    "spam = 0\n",
    "if spam == 10:\n",
    "print('eggs')\n",
    "if spam > 5:\n",
    "print('bacon')\n",
    "else:\n",
    "print('ham')\n",
    "print('spam')\n",
    "print('spam')\n"
   ]
  },
  {
   "cell_type": "code",
   "execution_count": null,
   "id": "23248ce1",
   "metadata": {},
   "outputs": [],
   "source": [
    "There are no blocks in this code to identify as there is no indentaion"
   ]
  },
  {
   "cell_type": "markdown",
   "id": "fdb218a0",
   "metadata": {},
   "source": [
    "8)Write code that prints Hello if 1 is stored in spam, prints Howdy if 2 is stored in spam, and prints\n",
    "Greetings! if anything else is stored in spam."
   ]
  },
  {
   "cell_type": "code",
   "execution_count": null,
   "id": "10076cf6",
   "metadata": {},
   "outputs": [],
   "source": [
    "spam =int(input(\"Enter Spam number\"))\n",
    "if spam == 1:\n",
    "    print(\"Hello\")\n",
    "elif spam == 2:\n",
    "    print(\"Howdy\")\n",
    "else:\n",
    "    print(\"Greetings!\")"
   ]
  },
  {
   "cell_type": "markdown",
   "id": "88c6dd55",
   "metadata": {},
   "source": [
    "9)9.If your programme is stuck in an endless loop, what keys you’ll press?"
   ]
  },
  {
   "cell_type": "code",
   "execution_count": null,
   "id": "796528a2",
   "metadata": {},
   "outputs": [],
   "source": [
    "ctrl+c helps to stop the execution of program which was in infite loop"
   ]
  },
  {
   "cell_type": "markdown",
   "id": "9ebddde8",
   "metadata": {},
   "source": [
    "10)How can you tell the difference between break and continue?\n"
   ]
  },
  {
   "cell_type": "code",
   "execution_count": null,
   "id": "4e4d9db2",
   "metadata": {},
   "outputs": [],
   "source": [
    "break statement is used to exit from the current loop where as continue is used to skip that one iteration to the next iteration"
   ]
  },
  {
   "cell_type": "markdown",
   "id": "eda25699",
   "metadata": {},
   "source": [
    "11)In a for loop, what is the difference between range(10), range(0, 10), and range(0, 10, 1)?"
   ]
  },
  {
   "cell_type": "code",
   "execution_count": null,
   "id": "aff83787",
   "metadata": {},
   "outputs": [],
   "source": [
    "In for loop range(10),range(0,10) and range(0,10,1) are same in the form of output but as we see range(10) has no starting value but we can see the ending value which is excluded in range(0,10) we can see that starting range is 0 and ending range is 10 but in range(0,10,1) which is range of starting is 1 and ending is 10 (10 is excluded)but it increment each step by 1\n"
   ]
  },
  {
   "cell_type": "markdown",
   "id": "07f3b862",
   "metadata": {},
   "source": [
    "12)Write a short program that prints the numbers 1 to 10 using a for loop. Then write an equivalent\n",
    "program that prints the numbers 1 to 10 using a while loop."
   ]
  },
  {
   "cell_type": "code",
   "execution_count": null,
   "id": "aada3cb3",
   "metadata": {},
   "outputs": [],
   "source": [
    "using for-\n",
    "for i in range(1,11):\n",
    "    print(i)\n",
    "using while-\n",
    "i=1\n",
    "while i<=10:\n",
    "    print(i)\n",
    "    i+=1"
   ]
  },
  {
   "cell_type": "markdown",
   "id": "2fd7d37d",
   "metadata": {},
   "source": [
    "13)If you had a function named bacon() inside a module named spam, how would you call it after\n",
    "importing spam?"
   ]
  },
  {
   "cell_type": "code",
   "execution_count": null,
   "id": "e00261d8",
   "metadata": {},
   "outputs": [],
   "source": [
    "import spam as sp\n",
    "  spam.bacon()"
   ]
  }
 ],
 "metadata": {
  "kernelspec": {
   "display_name": "Python 3 (ipykernel)",
   "language": "python",
   "name": "python3"
  },
  "language_info": {
   "codemirror_mode": {
    "name": "ipython",
    "version": 3
   },
   "file_extension": ".py",
   "mimetype": "text/x-python",
   "name": "python",
   "nbconvert_exporter": "python",
   "pygments_lexer": "ipython3",
   "version": "3.10.9"
  }
 },
 "nbformat": 4,
 "nbformat_minor": 5
}
